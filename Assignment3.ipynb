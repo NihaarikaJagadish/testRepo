{
  "nbformat": 4,
  "nbformat_minor": 0,
  "metadata": {
    "colab": {
      "name": "Assignment3.ipynb",
      "provenance": [],
      "collapsed_sections": [],
      "authorship_tag": "ABX9TyOVAHBN3V84NM9z5UG3dg2y",
      "include_colab_link": true
    },
    "kernelspec": {
      "name": "python3",
      "display_name": "Python 3"
    },
    "language_info": {
      "name": "python"
    }
  },
  "cells": [
    {
      "cell_type": "markdown",
      "metadata": {
        "id": "view-in-github",
        "colab_type": "text"
      },
      "source": [
        "<a href=\"https://colab.research.google.com/github/NihaarikaJagadish/testRepo/blob/main/Assignment3.ipynb\" target=\"_parent\"><img src=\"https://colab.research.google.com/assets/colab-badge.svg\" alt=\"Open In Colab\"/></a>"
      ]
    },
    {
      "cell_type": "code",
      "metadata": {
        "colab": {
          "base_uri": "https://localhost:8080/"
        },
        "id": "9QQMra2zvnbN",
        "outputId": "ebf227c4-541a-4fc3-c73d-e9bde9eaa857"
      },
      "source": [
        "from sklearn.datasets import load_breast_cancer\n",
        "from pandas import DataFrame,Series\n",
        "import pandas as pd\n",
        "#----- 0 - I am considering Malignant as 0 \n",
        "#----- 1 - I am considering Benign as 1\n",
        "data = load_breast_cancer()\n",
        "#data\n",
        "classes = data.target_names\n",
        "print(\"The output classes are:\", classes)\n",
        "# print(\"The data description is as below\")\n",
        "# print(data.DESCR)"
      ],
      "execution_count": 67,
      "outputs": [
        {
          "output_type": "stream",
          "name": "stdout",
          "text": [
            "The output classes are: ['malignant' 'benign']\n"
          ]
        }
      ]
    },
    {
      "cell_type": "code",
      "metadata": {
        "colab": {
          "base_uri": "https://localhost:8080/",
          "height": 292
        },
        "id": "hmksc_gDvuKx",
        "outputId": "28d3d5f4-a5f9-4bf0-f289-f9f15aa0426e"
      },
      "source": [
        "dataDF_X = DataFrame(data['data'],columns=data['feature_names']) #--- creating dataFrame with features\n",
        "dataDF_Y = DataFrame(data['target'],columns=['target'])          #--- creating dataFrame with Labels\n",
        "dataDF = dataDF_X.join(dataDF_Y)                                 #--- Merging the dataframes\n",
        "print(len(dataDF_Y))\n",
        "print(data['target'].shape)\n",
        "dataDF.head()\n",
        "#data = DataFrame(data)"
      ],
      "execution_count": 57,
      "outputs": [
        {
          "output_type": "stream",
          "name": "stdout",
          "text": [
            "569\n",
            "(569,)\n"
          ]
        },
        {
          "output_type": "execute_result",
          "data": {
            "text/html": [
              "<div>\n",
              "<style scoped>\n",
              "    .dataframe tbody tr th:only-of-type {\n",
              "        vertical-align: middle;\n",
              "    }\n",
              "\n",
              "    .dataframe tbody tr th {\n",
              "        vertical-align: top;\n",
              "    }\n",
              "\n",
              "    .dataframe thead th {\n",
              "        text-align: right;\n",
              "    }\n",
              "</style>\n",
              "<table border=\"1\" class=\"dataframe\">\n",
              "  <thead>\n",
              "    <tr style=\"text-align: right;\">\n",
              "      <th></th>\n",
              "      <th>mean radius</th>\n",
              "      <th>mean texture</th>\n",
              "      <th>mean perimeter</th>\n",
              "      <th>mean area</th>\n",
              "      <th>mean smoothness</th>\n",
              "      <th>mean compactness</th>\n",
              "      <th>mean concavity</th>\n",
              "      <th>mean concave points</th>\n",
              "      <th>mean symmetry</th>\n",
              "      <th>mean fractal dimension</th>\n",
              "      <th>radius error</th>\n",
              "      <th>texture error</th>\n",
              "      <th>perimeter error</th>\n",
              "      <th>area error</th>\n",
              "      <th>smoothness error</th>\n",
              "      <th>compactness error</th>\n",
              "      <th>concavity error</th>\n",
              "      <th>concave points error</th>\n",
              "      <th>symmetry error</th>\n",
              "      <th>fractal dimension error</th>\n",
              "      <th>worst radius</th>\n",
              "      <th>worst texture</th>\n",
              "      <th>worst perimeter</th>\n",
              "      <th>worst area</th>\n",
              "      <th>worst smoothness</th>\n",
              "      <th>worst compactness</th>\n",
              "      <th>worst concavity</th>\n",
              "      <th>worst concave points</th>\n",
              "      <th>worst symmetry</th>\n",
              "      <th>worst fractal dimension</th>\n",
              "      <th>target</th>\n",
              "    </tr>\n",
              "  </thead>\n",
              "  <tbody>\n",
              "    <tr>\n",
              "      <th>0</th>\n",
              "      <td>17.99</td>\n",
              "      <td>10.38</td>\n",
              "      <td>122.80</td>\n",
              "      <td>1001.0</td>\n",
              "      <td>0.11840</td>\n",
              "      <td>0.27760</td>\n",
              "      <td>0.3001</td>\n",
              "      <td>0.14710</td>\n",
              "      <td>0.2419</td>\n",
              "      <td>0.07871</td>\n",
              "      <td>1.0950</td>\n",
              "      <td>0.9053</td>\n",
              "      <td>8.589</td>\n",
              "      <td>153.40</td>\n",
              "      <td>0.006399</td>\n",
              "      <td>0.04904</td>\n",
              "      <td>0.05373</td>\n",
              "      <td>0.01587</td>\n",
              "      <td>0.03003</td>\n",
              "      <td>0.006193</td>\n",
              "      <td>25.38</td>\n",
              "      <td>17.33</td>\n",
              "      <td>184.60</td>\n",
              "      <td>2019.0</td>\n",
              "      <td>0.1622</td>\n",
              "      <td>0.6656</td>\n",
              "      <td>0.7119</td>\n",
              "      <td>0.2654</td>\n",
              "      <td>0.4601</td>\n",
              "      <td>0.11890</td>\n",
              "      <td>0</td>\n",
              "    </tr>\n",
              "    <tr>\n",
              "      <th>1</th>\n",
              "      <td>20.57</td>\n",
              "      <td>17.77</td>\n",
              "      <td>132.90</td>\n",
              "      <td>1326.0</td>\n",
              "      <td>0.08474</td>\n",
              "      <td>0.07864</td>\n",
              "      <td>0.0869</td>\n",
              "      <td>0.07017</td>\n",
              "      <td>0.1812</td>\n",
              "      <td>0.05667</td>\n",
              "      <td>0.5435</td>\n",
              "      <td>0.7339</td>\n",
              "      <td>3.398</td>\n",
              "      <td>74.08</td>\n",
              "      <td>0.005225</td>\n",
              "      <td>0.01308</td>\n",
              "      <td>0.01860</td>\n",
              "      <td>0.01340</td>\n",
              "      <td>0.01389</td>\n",
              "      <td>0.003532</td>\n",
              "      <td>24.99</td>\n",
              "      <td>23.41</td>\n",
              "      <td>158.80</td>\n",
              "      <td>1956.0</td>\n",
              "      <td>0.1238</td>\n",
              "      <td>0.1866</td>\n",
              "      <td>0.2416</td>\n",
              "      <td>0.1860</td>\n",
              "      <td>0.2750</td>\n",
              "      <td>0.08902</td>\n",
              "      <td>0</td>\n",
              "    </tr>\n",
              "    <tr>\n",
              "      <th>2</th>\n",
              "      <td>19.69</td>\n",
              "      <td>21.25</td>\n",
              "      <td>130.00</td>\n",
              "      <td>1203.0</td>\n",
              "      <td>0.10960</td>\n",
              "      <td>0.15990</td>\n",
              "      <td>0.1974</td>\n",
              "      <td>0.12790</td>\n",
              "      <td>0.2069</td>\n",
              "      <td>0.05999</td>\n",
              "      <td>0.7456</td>\n",
              "      <td>0.7869</td>\n",
              "      <td>4.585</td>\n",
              "      <td>94.03</td>\n",
              "      <td>0.006150</td>\n",
              "      <td>0.04006</td>\n",
              "      <td>0.03832</td>\n",
              "      <td>0.02058</td>\n",
              "      <td>0.02250</td>\n",
              "      <td>0.004571</td>\n",
              "      <td>23.57</td>\n",
              "      <td>25.53</td>\n",
              "      <td>152.50</td>\n",
              "      <td>1709.0</td>\n",
              "      <td>0.1444</td>\n",
              "      <td>0.4245</td>\n",
              "      <td>0.4504</td>\n",
              "      <td>0.2430</td>\n",
              "      <td>0.3613</td>\n",
              "      <td>0.08758</td>\n",
              "      <td>0</td>\n",
              "    </tr>\n",
              "    <tr>\n",
              "      <th>3</th>\n",
              "      <td>11.42</td>\n",
              "      <td>20.38</td>\n",
              "      <td>77.58</td>\n",
              "      <td>386.1</td>\n",
              "      <td>0.14250</td>\n",
              "      <td>0.28390</td>\n",
              "      <td>0.2414</td>\n",
              "      <td>0.10520</td>\n",
              "      <td>0.2597</td>\n",
              "      <td>0.09744</td>\n",
              "      <td>0.4956</td>\n",
              "      <td>1.1560</td>\n",
              "      <td>3.445</td>\n",
              "      <td>27.23</td>\n",
              "      <td>0.009110</td>\n",
              "      <td>0.07458</td>\n",
              "      <td>0.05661</td>\n",
              "      <td>0.01867</td>\n",
              "      <td>0.05963</td>\n",
              "      <td>0.009208</td>\n",
              "      <td>14.91</td>\n",
              "      <td>26.50</td>\n",
              "      <td>98.87</td>\n",
              "      <td>567.7</td>\n",
              "      <td>0.2098</td>\n",
              "      <td>0.8663</td>\n",
              "      <td>0.6869</td>\n",
              "      <td>0.2575</td>\n",
              "      <td>0.6638</td>\n",
              "      <td>0.17300</td>\n",
              "      <td>0</td>\n",
              "    </tr>\n",
              "    <tr>\n",
              "      <th>4</th>\n",
              "      <td>20.29</td>\n",
              "      <td>14.34</td>\n",
              "      <td>135.10</td>\n",
              "      <td>1297.0</td>\n",
              "      <td>0.10030</td>\n",
              "      <td>0.13280</td>\n",
              "      <td>0.1980</td>\n",
              "      <td>0.10430</td>\n",
              "      <td>0.1809</td>\n",
              "      <td>0.05883</td>\n",
              "      <td>0.7572</td>\n",
              "      <td>0.7813</td>\n",
              "      <td>5.438</td>\n",
              "      <td>94.44</td>\n",
              "      <td>0.011490</td>\n",
              "      <td>0.02461</td>\n",
              "      <td>0.05688</td>\n",
              "      <td>0.01885</td>\n",
              "      <td>0.01756</td>\n",
              "      <td>0.005115</td>\n",
              "      <td>22.54</td>\n",
              "      <td>16.67</td>\n",
              "      <td>152.20</td>\n",
              "      <td>1575.0</td>\n",
              "      <td>0.1374</td>\n",
              "      <td>0.2050</td>\n",
              "      <td>0.4000</td>\n",
              "      <td>0.1625</td>\n",
              "      <td>0.2364</td>\n",
              "      <td>0.07678</td>\n",
              "      <td>0</td>\n",
              "    </tr>\n",
              "  </tbody>\n",
              "</table>\n",
              "</div>"
            ],
            "text/plain": [
              "   mean radius  mean texture  ...  worst fractal dimension  target\n",
              "0        17.99         10.38  ...                  0.11890       0\n",
              "1        20.57         17.77  ...                  0.08902       0\n",
              "2        19.69         21.25  ...                  0.08758       0\n",
              "3        11.42         20.38  ...                  0.17300       0\n",
              "4        20.29         14.34  ...                  0.07678       0\n",
              "\n",
              "[5 rows x 31 columns]"
            ]
          },
          "metadata": {},
          "execution_count": 57
        }
      ]
    },
    {
      "cell_type": "code",
      "metadata": {
        "id": "8SRi_ZmPvvdZ"
      },
      "source": [
        "\n",
        "#--- Checking for missing data\n",
        "#dataDF.isnull().sum() #--- no column has null data\n",
        "#dataDF.isna().sum()    #--- no column has NAN data in it\n",
        "\n",
        "from sklearn.model_selection import train_test_split\n",
        "X_train, X_test, Y_train, Y_test = train_test_split(dataDF_X, dataDF_Y, test_size = 0.33, random_state = 0)"
      ],
      "execution_count": 58,
      "outputs": []
    },
    {
      "cell_type": "code",
      "metadata": {
        "colab": {
          "base_uri": "https://localhost:8080/"
        },
        "id": "3xtANlMavyPG",
        "outputId": "92052534-f39b-4a6b-d1ef-b54fe96aeba2"
      },
      "source": [
        "#---- Question 4 -- using custom logistic classifier\n",
        "#%%time\n",
        "from sklearn.datasets import load_breast_cancer\n",
        "from pandas import DataFrame,Series\n",
        "import pandas as pd\n",
        "\n",
        "data = load_breast_cancer()\n",
        "#data\n",
        "classes = data.target_names\n",
        "#--- Split the data into Train and Test\n",
        "from sklearn.model_selection import train_test_split\n",
        "X_train, X_test, Y_train, Y_test = train_test_split(dataDF_X, dataDF_Y, test_size = 0.33, random_state = 1)\n",
        "d = logisticFunction(X_train, Y_train, X_test, Y_test, 0.00001,  10000, True)"
      ],
      "execution_count": 72,
      "outputs": [
        {
          "output_type": "stream",
          "name": "stdout",
          "text": [
            "Cost after iteration number 0 : 0.693147\n",
            "Cost after iteration number 1000 : 0.254450\n",
            "Cost after iteration number 2000 : 0.227522\n",
            "Cost after iteration number 3000 : 0.216847\n",
            "Cost after iteration number 4000 : 0.211264\n",
            "Cost after iteration number 5000 : 0.207845\n",
            "Cost after iteration number 6000 : 0.205505\n",
            "Cost after iteration number 7000 : 0.203760\n",
            "Cost after iteration number 8000 : 0.202371\n",
            "Cost after iteration number 9000 : 0.201208\n",
            "Training accuracy: 91.60104986876641%\n",
            "Testing accuracy: 92.55319148936171%\n"
          ]
        }
      ]
    },
    {
      "cell_type": "code",
      "metadata": {
        "colab": {
          "base_uri": "https://localhost:8080/",
          "height": 621
        },
        "id": "ubgLFJDtv058",
        "outputId": "375fe8e1-78d9-4bae-92b2-6cffdb66db43"
      },
      "source": [
        ""
      ],
      "execution_count": 60,
      "outputs": [
        {
          "output_type": "display_data",
          "data": {
            "image/png": "[encoded data removed]",
            "text/plain": [
              "<Figure size 864x720 with 1 Axes>"
            ]
          },
          "metadata": {
            "needs_background": "light"
          }
        }
      ]
    },
    {
      "cell_type": "code",
      "metadata": {
        "colab": {
          "base_uri": "https://localhost:8080/",
          "height": 628
        },
        "id": "SX2muQC9v--v",
        "outputId": "a09fdd26-c839-401e-cb3b-2fce049de3d8"
      },
      "source": [
        "#--- ROC Curve - Custom build\n",
        "probs = d['Y_prob_train']\n",
        "y_preds = d['Y_Prediction_Train']\n",
        "y_original = np.squeeze(Y_train)\n",
        "plotROC(y_original,y_preds,probs)"
      ],
      "execution_count": 61,
      "outputs": [
        {
          "output_type": "display_data",
          "data": {
            "image/png": "[encoded data removed]",
            "text/plain": [
              "<Figure size 864x720 with 1 Axes>"
            ]
          },
          "metadata": {
            "needs_background": "light"
          }
        }
      ]
    },
    {
      "cell_type": "code",
      "metadata": {
        "colab": {
          "base_uri": "https://localhost:8080/",
          "height": 883
        },
        "id": "A--6eoxmwBx7",
        "outputId": "71c1e3bf-0dfa-4f75-bfb6-e129e8f1080a"
      },
      "source": [
        "#--- Using Pre-defined function\n",
        "title = 'ROC Curve for Logistic Regression'\n",
        "label = 'None'\n",
        "# calculate the ROC score\n",
        "fpr, tpr, thresholds = roc_curve(y_original, probs)\n",
        "#print('--> probs',np.squeeze(probs))\n",
        "#print('--> thresholds : ',thresholds)\n",
        "print('--> fpr : ',fpr)\n",
        "print('--> tpr : ',tpr)\n",
        "print('AUC Score ({}): {:.2f} '.format(title, roc_auc_score(y_original, probs)))    \n",
        "label = 'AUC Score ({}): {:.2f} '.format(title, roc_auc_score(y_original, probs))\n",
        "# plot the ROC curve\n",
        "plt.figure(figsize=(12,10))\n",
        "plt.plot(fpr, tpr, linewidth=2, label=label, color='b')\n",
        "plt.xlabel('False Positive Rate', fontsize=16)\n",
        "plt.ylabel('True Positive Rate', fontsize=16)\n",
        "plt.title('ROC Curve: {}'.format(title), fontsize=16)\n",
        "plt.legend(loc='lower right')\n",
        "plt.show()"
      ],
      "execution_count": 62,
      "outputs": [
        {
          "output_type": "stream",
          "name": "stdout",
          "text": [
            "--> fpr :  [0.         0.         0.         0.00680272 0.00680272 0.01360544\n",
            " 0.01360544 0.02040816 0.02040816 0.02721088 0.02721088 0.03401361\n",
            " 0.03401361 0.04081633 0.04081633 0.05442177 0.05442177 0.06122449\n",
            " 0.06122449 0.06802721 0.06802721 0.07482993 0.07482993 0.08163265\n",
            " 0.08163265 0.08843537 0.08843537 0.10204082 0.10204082 0.10884354\n",
            " 0.10884354 0.13605442 0.13605442 0.15646259 0.15646259 0.17006803\n",
            " 0.17006803 0.18367347 0.18367347 0.31292517 0.31292517 1.        ]\n",
            "--> tpr :  [0.         0.0042735  0.42307692 0.42307692 0.45726496 0.45726496\n",
            " 0.55128205 0.55128205 0.57264957 0.57264957 0.64529915 0.64529915\n",
            " 0.75641026 0.75641026 0.81196581 0.81196581 0.82051282 0.82051282\n",
            " 0.84615385 0.84615385 0.85470085 0.85470085 0.86324786 0.86324786\n",
            " 0.9017094  0.9017094  0.90598291 0.90598291 0.91880342 0.91880342\n",
            " 0.94444444 0.94444444 0.94871795 0.94871795 0.97008547 0.97008547\n",
            " 0.97435897 0.97435897 0.9957265  0.9957265  1.         1.        ]\n",
            "AUC Score (ROC Curve for Logistic Regression): 0.97 \n"
          ]
        },
        {
          "output_type": "display_data",
          "data": {
            "image/png": "[encoded data removed]",
            "text/plain": [
              "<Figure size 864x720 with 1 Axes>"
            ]
          },
          "metadata": {
            "needs_background": "light"
          }
        }
      ]
    },
    {
      "cell_type": "code",
      "metadata": {
        "colab": {
          "base_uri": "https://localhost:8080/",
          "height": 532
        },
        "id": "eSFPm4-MwEbh",
        "outputId": "a221047e-580b-4542-cb1b-6251599d11ef"
      },
      "source": [
        "#--- Using Logistic Regression Algorithm to the Training Set Predefined model library\n",
        "from sklearn.linear_model import LogisticRegression\n",
        "import matplotlib.pyplot as plt\n",
        "import seaborn as sns\n",
        "%matplotlib inline\n",
        "classifier = LogisticRegression(random_state = 0)\n",
        "classifier.fit(X_train, Y_train)\n",
        "y_score = classifier.decision_function(X_test)\n",
        "#--- test the trained classifer\n",
        "Y_pred = classifier.predict(X_test)\n",
        "y_pred_proba = classifier.predict_proba(X_test)[::,1]\n",
        " #--- checking the accuracy\n",
        "from sklearn.metrics import confusion_matrix\n",
        "cm = confusion_matrix(Y_test, Y_pred)\n",
        "#---- plotting confusion matrix\n",
        "class_names=classes\n",
        "fig, ax = plt.subplots()\n",
        "tick_marks = np.arange(len(class_names))\n",
        "plt.xticks(tick_marks, class_names)\n",
        "plt.yticks(tick_marks, class_names)\n",
        "# create heatmap\n",
        "sns.heatmap(pd.DataFrame(cm), annot=True, cmap=\"YlGnBu\" ,fmt='g')\n",
        "ax.xaxis.set_label_position(\"top\")\n",
        "plt.tight_layout()\n",
        "plt.title('Confusion matrix', y=1.1)\n",
        "plt.ylabel('Actual label')\n",
        "plt.xlabel('Predicted label')"
      ],
      "execution_count": 63,
      "outputs": [
        {
          "output_type": "stream",
          "name": "stderr",
          "text": [
            "/usr/local/lib/python3.7/dist-packages/sklearn/utils/validation.py:760: DataConversionWarning: A column-vector y was passed when a 1d array was expected. Please change the shape of y to (n_samples, ), for example using ravel().\n",
            "  y = column_or_1d(y, warn=True)\n",
            "/usr/local/lib/python3.7/dist-packages/sklearn/linear_model/_logistic.py:940: ConvergenceWarning: lbfgs failed to converge (status=1):\n",
            "STOP: TOTAL NO. of ITERATIONS REACHED LIMIT.\n",
            "\n",
            "Increase the number of iterations (max_iter) or scale the data as shown in:\n",
            "    https://scikit-learn.org/stable/modules/preprocessing.html\n",
            "Please also refer to the documentation for alternative solver options:\n",
            "    https://scikit-learn.org/stable/modules/linear_model.html#logistic-regression\n",
            "  extra_warning_msg=_LOGISTIC_SOLVER_CONVERGENCE_MSG)\n"
          ]
        },
        {
          "output_type": "execute_result",
          "data": {
            "text/plain": [
              "Text(0.5, 257.44, 'Predicted label')"
            ]
          },
          "metadata": {},
          "execution_count": 63
        },
        {
          "output_type": "display_data",
          "data": {
            "image/png": "[encoded data removed]",
            "text/plain": [
              "<Figure size 432x288 with 2 Axes>"
            ]
          },
          "metadata": {
            "needs_background": "light"
          }
        }
      ]
    },
    {
      "cell_type": "code",
      "metadata": {
        "colab": {
          "base_uri": "https://localhost:8080/"
        },
        "id": "29bvVCpPwH87",
        "outputId": "316599ff-e9e0-4f9f-8523-015c7bbf86b2"
      },
      "source": [
        "Y_proba = classifier.predict_proba(X_test)\n",
        "#print('predicted probabilities',y_score[:])\n",
        "cs_score = classifier.score(X_test, Y_test)\n",
        "print('test accuracy -',cs_score)"
      ],
      "execution_count": 64,
      "outputs": [
        {
          "output_type": "stream",
          "name": "stdout",
          "text": [
            "test accuracy - 0.9361702127659575\n"
          ]
        }
      ]
    },
    {
      "cell_type": "code",
      "metadata": {
        "colab": {
          "base_uri": "https://localhost:8080/",
          "height": 428
        },
        "id": "iYqFsu-IwKyo",
        "outputId": "1c9a2749-7595-4818-8f9b-1ad1f494887d"
      },
      "source": [
        "#---- ROC Curve\n",
        "from sklearn import metrics\n",
        "from sklearn.metrics import roc_auc_score,roc_curve\n",
        "from itertools import cycle\n",
        "import matplotlib.pyplot as plt\n",
        "%matplotlib inline\n",
        "\n",
        "#--- 0 ---- Malignant - Harmful\n",
        "#--- 1 ---- Benign - Not Harmful\n",
        "\n",
        "# Compute ROC curve and ROC area for each class\n",
        "title = 'ROC Curve for Logistic Regression'\n",
        "label = 'None'\n",
        "# calculate the ROC score\n",
        "fpr, tpr, thresholds = roc_curve(Y_test, y_pred_proba)\n",
        "print('AUC Score ({}): {:.2f} '.format(title, roc_auc_score(Y_test, y_pred_proba)))    \n",
        "label = 'AUC Score ({}): {:.2f} '.format(title, roc_auc_score(Y_test, y_pred_proba))\n",
        "# plot the ROC curve\n",
        "plt.figure(figsize=(8,6))\n",
        "plt.plot(fpr, tpr, linewidth=2, label=label, color='b')\n",
        "plt.xlabel('False Positive Rate', fontsize=16)\n",
        "plt.ylabel('True Positive Rate', fontsize=16)\n",
        "plt.title('ROC Curve: {}'.format(title), fontsize=16)\n",
        "plt.legend(loc='lower right')\n",
        "plt.show()"
      ],
      "execution_count": 65,
      "outputs": [
        {
          "output_type": "stream",
          "name": "stdout",
          "text": [
            "AUC Score (ROC Curve for Logistic Regression): 0.98 \n"
          ]
        },
        {
          "output_type": "display_data",
          "data": {
            "image/png": "[encoded data removed]",
            "text/plain": [
              "<Figure size 576x432 with 1 Axes>"
            ]
          },
          "metadata": {
            "needs_background": "light"
          }
        }
      ]
    },
    {
      "cell_type": "code",
      "metadata": {
        "id": "zA9yPHyVwNOa"
      },
      "source": [
        ""
      ],
      "execution_count": null,
      "outputs": []
    }
  ]
}